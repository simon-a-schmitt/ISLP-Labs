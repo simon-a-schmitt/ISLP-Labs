{
 "cells": [
  {
   "cell_type": "code",
   "execution_count": 15,
   "id": "7d995e2d",
   "metadata": {},
   "outputs": [],
   "source": [
    "import numpy as np\n",
    "import altair as alt\n",
    "import pandas as pd"
   ]
  },
  {
   "cell_type": "code",
   "execution_count": 9,
   "id": "c7233e02",
   "metadata": {},
   "outputs": [
    {
     "data": {
      "text/plain": [
       "array([4, 6])"
      ]
     },
     "execution_count": 9,
     "metadata": {},
     "output_type": "execute_result"
    }
   ],
   "source": [
    "x = np.array([[1, 2], [3, 4]])\n",
    "x.sum(axis=0)"
   ]
  },
  {
   "cell_type": "code",
   "execution_count": 28,
   "id": "c1b63635",
   "metadata": {},
   "outputs": [
    {
     "data": {
      "text/html": [
       "\n",
       "<style>\n",
       "  #altair-viz-572c293ae7b74b8eaba7240bf846fb95.vega-embed {\n",
       "    width: 100%;\n",
       "    display: flex;\n",
       "  }\n",
       "\n",
       "  #altair-viz-572c293ae7b74b8eaba7240bf846fb95.vega-embed details,\n",
       "  #altair-viz-572c293ae7b74b8eaba7240bf846fb95.vega-embed details summary {\n",
       "    position: relative;\n",
       "  }\n",
       "</style>\n",
       "<div id=\"altair-viz-572c293ae7b74b8eaba7240bf846fb95\"></div>\n",
       "<script type=\"text/javascript\">\n",
       "  var VEGA_DEBUG = (typeof VEGA_DEBUG == \"undefined\") ? {} : VEGA_DEBUG;\n",
       "  (function(spec, embedOpt){\n",
       "    let outputDiv = document.currentScript.previousElementSibling;\n",
       "    if (outputDiv.id !== \"altair-viz-572c293ae7b74b8eaba7240bf846fb95\") {\n",
       "      outputDiv = document.getElementById(\"altair-viz-572c293ae7b74b8eaba7240bf846fb95\");\n",
       "    }\n",
       "\n",
       "    const paths = {\n",
       "      \"vega\": \"https://cdn.jsdelivr.net/npm/vega@5?noext\",\n",
       "      \"vega-lib\": \"https://cdn.jsdelivr.net/npm/vega-lib?noext\",\n",
       "      \"vega-lite\": \"https://cdn.jsdelivr.net/npm/vega-lite@5.20.1?noext\",\n",
       "      \"vega-embed\": \"https://cdn.jsdelivr.net/npm/vega-embed@6?noext\",\n",
       "    };\n",
       "\n",
       "    function maybeLoadScript(lib, version) {\n",
       "      var key = `${lib.replace(\"-\", \"\")}_version`;\n",
       "      return (VEGA_DEBUG[key] == version) ?\n",
       "        Promise.resolve(paths[lib]) :\n",
       "        new Promise(function(resolve, reject) {\n",
       "          var s = document.createElement('script');\n",
       "          document.getElementsByTagName(\"head\")[0].appendChild(s);\n",
       "          s.async = true;\n",
       "          s.onload = () => {\n",
       "            VEGA_DEBUG[key] = version;\n",
       "            return resolve(paths[lib]);\n",
       "          };\n",
       "          s.onerror = () => reject(`Error loading script: ${paths[lib]}`);\n",
       "          s.src = paths[lib];\n",
       "        });\n",
       "    }\n",
       "\n",
       "    function showError(err) {\n",
       "      outputDiv.innerHTML = `<div class=\"error\" style=\"color:red;\">${err}</div>`;\n",
       "      throw err;\n",
       "    }\n",
       "\n",
       "    function displayChart(vegaEmbed) {\n",
       "      vegaEmbed(outputDiv, spec, embedOpt)\n",
       "        .catch(err => showError(`Javascript Error: ${err.message}<br>This usually means there's a typo in your chart specification. See the javascript console for the full traceback.`));\n",
       "    }\n",
       "\n",
       "    if(typeof define === \"function\" && define.amd) {\n",
       "      requirejs.config({paths});\n",
       "      let deps = [\"vega-embed\"];\n",
       "      require(deps, displayChart, err => showError(`Error loading script: ${err.message}`));\n",
       "    } else {\n",
       "      maybeLoadScript(\"vega\", \"5\")\n",
       "        .then(() => maybeLoadScript(\"vega-lite\", \"5.20.1\"))\n",
       "        .then(() => maybeLoadScript(\"vega-embed\", \"6\"))\n",
       "        .catch(showError)\n",
       "        .then(() => displayChart(vegaEmbed));\n",
       "    }\n",
       "  })({\"config\": {\"view\": {\"continuousWidth\": 300, \"continuousHeight\": 300}}, \"data\": {\"name\": \"data-8292e1ff8592f9a4359c3294ef13278c\"}, \"mark\": {\"type\": \"bar\"}, \"encoding\": {\"x\": {\"bin\": {}, \"field\": \"value\", \"type\": \"quantitative\"}, \"y\": {\"aggregate\": \"count\", \"type\": \"quantitative\"}}, \"$schema\": \"https://vega.github.io/schema/vega-lite/v5.20.1.json\", \"datasets\": {\"data-8292e1ff8592f9a4359c3294ef13278c\": [{\"value\": -0.20305271359138632}, {\"value\": -0.9598367902956745}, {\"value\": 0.5786543292905715}, {\"value\": -1.1344734014610238}, {\"value\": 0.17139753079280717}, {\"value\": 0.41613552008216437}, {\"value\": -1.0420446089454511}, {\"value\": -0.12681979474320504}, {\"value\": -0.7781244638171365}, {\"value\": 1.9560688972583076}, {\"value\": 2.0178532416212898}, {\"value\": -1.6896227543537166}, {\"value\": -0.5183540170137138}, {\"value\": 0.13416451372021745}, {\"value\": -0.2058136821663018}, {\"value\": 0.10203731965949374}, {\"value\": -1.7161395134585387}, {\"value\": -0.2774017848380609}, {\"value\": -1.4566871199964107}, {\"value\": 0.09851662728347751}, {\"value\": -1.0010244817888774}, {\"value\": 1.3697648646293332}, {\"value\": -0.2854975414888393}, {\"value\": -1.0466645985970235}, {\"value\": 0.378355984417808}, {\"value\": -0.2470411661191515}, {\"value\": 0.6135227986118256}, {\"value\": -0.9763759485269027}, {\"value\": -1.0174728844752474}, {\"value\": 0.252089384984102}, {\"value\": -1.558123874274223}, {\"value\": -0.07640727307488927}, {\"value\": 0.24610173811152525}, {\"value\": 2.199418036697213}, {\"value\": -0.30901964788614916}, {\"value\": -1.3583166039344579}, {\"value\": 1.2870252056897915}, {\"value\": 1.8580366920833362}, {\"value\": -0.02766722870666167}, {\"value\": -2.19174783427588}]}}, {\"mode\": \"vega-lite\"});\n",
       "</script>"
      ],
      "text/plain": [
       "alt.Chart(...)"
      ]
     },
     "execution_count": 28,
     "metadata": {},
     "output_type": "execute_result"
    }
   ],
   "source": [
    "x = np.random.normal(size=40)\n",
    "\n",
    "df = pd.DataFrame(x) \n",
    "df.columns = ['value']\n",
    "\n",
    "alt.Chart(df).mark_bar().encode(\n",
    "    alt.X('value', bin=alt.Bin()),\n",
    "    y='count()'\n",
    ")"
   ]
  },
  {
   "cell_type": "code",
   "execution_count": null,
   "id": "259e475a",
   "metadata": {},
   "outputs": [],
   "source": []
  }
 ],
 "metadata": {
  "kernelspec": {
   "display_name": ".venv",
   "language": "python",
   "name": "python3"
  },
  "language_info": {
   "codemirror_mode": {
    "name": "ipython",
    "version": 3
   },
   "file_extension": ".py",
   "mimetype": "text/x-python",
   "name": "python",
   "nbconvert_exporter": "python",
   "pygments_lexer": "ipython3",
   "version": "3.11.6"
  }
 },
 "nbformat": 4,
 "nbformat_minor": 5
}
